{
 "metadata": {
  "name": ""
 },
 "nbformat": 3,
 "nbformat_minor": 0,
 "worksheets": [
  {
   "cells": [
    {
     "cell_type": "code",
     "collapsed": false,
     "input": [
      "\n",
      "x = 0\n",
      "max_tries = 10\n",
      "count = 0\n",
      "\n",
      "while True:\n",
      "    x_new = int(raw_input(\"Enter a new number: \"))\n",
      "    if x_new > x:\n",
      "        print \"It's bigger than the last!\"\n",
      "    elif x_new < x:\n",
      "        print \"It's smaller than the last!\"\n",
      "    else:\n",
      "        print \"No change! I'll exit now\"\n",
      "        break\n",
      "    \n",
      "    x = x_new\n",
      "    count += 1\n",
      "    if count > max_tries:\n",
      "        print \"Too many tries.\"\n",
      "        break\n",
      "\n"
     ],
     "language": "python",
     "metadata": {},
     "outputs": [
      {
       "name": "stdout",
       "output_type": "stream",
       "stream": "stdout",
       "text": [
        "Enter a new number: 1\n"
       ]
      },
      {
       "output_type": "stream",
       "stream": "stdout",
       "text": [
        "It's bigger than the last!\n"
       ]
      },
      {
       "name": "stdout",
       "output_type": "stream",
       "stream": "stdout",
       "text": [
        "Enter a new number: 2\n"
       ]
      },
      {
       "output_type": "stream",
       "stream": "stdout",
       "text": [
        "It's bigger than the last!\n"
       ]
      },
      {
       "name": "stdout",
       "output_type": "stream",
       "stream": "stdout",
       "text": [
        "Enter a new number: 3\n"
       ]
      },
      {
       "output_type": "stream",
       "stream": "stdout",
       "text": [
        "It's bigger than the last!\n"
       ]
      },
      {
       "name": "stdout",
       "output_type": "stream",
       "stream": "stdout",
       "text": [
        "Enter a new number: \n"
       ]
      },
      {
       "ename": "ValueError",
       "evalue": "invalid literal for int() with base 10: ''",
       "output_type": "pyerr",
       "traceback": [
        "\u001b[1;31m---------------------------------------------------------------------------\u001b[0m\n\u001b[1;31mValueError\u001b[0m                                Traceback (most recent call last)",
        "\u001b[1;32m<ipython-input-56-df5f2a3e2e15>\u001b[0m in \u001b[0;36m<module>\u001b[1;34m()\u001b[0m\n\u001b[0;32m      5\u001b[0m \u001b[1;33m\u001b[0m\u001b[0m\n\u001b[0;32m      6\u001b[0m \u001b[1;32mwhile\u001b[0m \u001b[0mTrue\u001b[0m\u001b[1;33m:\u001b[0m\u001b[1;33m\u001b[0m\u001b[0m\n\u001b[1;32m----> 7\u001b[1;33m     \u001b[0mx_new\u001b[0m \u001b[1;33m=\u001b[0m \u001b[0mint\u001b[0m\u001b[1;33m(\u001b[0m\u001b[0mraw_input\u001b[0m\u001b[1;33m(\u001b[0m\u001b[1;34m\"Enter a new number: \"\u001b[0m\u001b[1;33m)\u001b[0m\u001b[1;33m)\u001b[0m\u001b[1;33m\u001b[0m\u001b[0m\n\u001b[0m\u001b[0;32m      8\u001b[0m     \u001b[1;32mif\u001b[0m \u001b[0mx_new\u001b[0m \u001b[1;33m>\u001b[0m \u001b[0mx\u001b[0m\u001b[1;33m:\u001b[0m\u001b[1;33m\u001b[0m\u001b[0m\n\u001b[0;32m      9\u001b[0m         \u001b[1;32mprint\u001b[0m \u001b[1;34m\"It's bigger than the last!\"\u001b[0m\u001b[1;33m\u001b[0m\u001b[0m\n",
        "\u001b[1;31mValueError\u001b[0m: invalid literal for int() with base 10: ''"
       ]
      }
     ],
     "prompt_number": 56
    },
    {
     "cell_type": "code",
     "collapsed": false,
     "input": [
      "%% file number_game.py\n",
      "# The above \"magic\" command saves the contents \n",
      "# of the current cell to file. We'll see more of \n",
      "# this later.\n",
      "\n",
      "\n",
      "x = 0\n",
      "max_tries = 10\n",
      "count = 0\n",
      "\n",
      "while True:\n",
      "    x_new = int(raw_input(\"Enter a new number: \"))\n",
      "    if x_new > x:\n",
      "        print \"It's bigger than the last!\"\n",
      "    elif x_new < x:\n",
      "        print \"It's smaller than the last!\"\n",
      "    else:\n",
      "        print \"No change! I'll exit now\"\n",
      "        break\n",
      "    \n",
      "    x = x_new\n",
      "    count += 1\n",
      "    if count > max_tries:\n",
      "        print \"Too many tries.\"\n",
      "        break\n",
      "\n",
      "\n"
     ],
     "language": "python",
     "metadata": {},
     "outputs": [
      {
       "output_type": "stream",
       "stream": "stderr",
       "text": [
        "ERROR: Cell magic `%%` not found.\n"
       ]
      }
     ],
     "prompt_number": 55
    }
   ],
   "metadata": {}
  }
 ]
}